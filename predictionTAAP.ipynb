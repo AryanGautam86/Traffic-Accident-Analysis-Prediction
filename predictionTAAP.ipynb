{
 "cells": [
  {
   "cell_type": "markdown",
   "id": "3ac8bdc6-ef49-4aa2-9470-75fb4529c33d",
   "metadata": {},
   "source": [
    "## PREDICTION"
   ]
  },
  {
   "cell_type": "code",
   "execution_count": 1,
   "id": "af88339e-28e9-48a9-af8f-4df02fea8e43",
   "metadata": {},
   "outputs": [],
   "source": [
    "import pandas as pd\n",
    "from joblib import load\n",
    "model=load('t_accident_pred.joblib')"
   ]
  },
  {
   "cell_type": "code",
   "execution_count": 2,
   "id": "79e66ece-34a9-47af-a98e-f7bd16b80e7e",
   "metadata": {},
   "outputs": [
    {
     "name": "stdout",
     "output_type": "stream",
     "text": [
      "Predicted Accident Risk: High\n",
      "1\n"
     ]
    }
   ],
   "source": [
    "# Example input: 5 PM on a Friday at central LA (34.05, -118.24)\n",
    "test_input = pd.DataFrame([{\n",
    "    'Hour': 3,\n",
    "    'Day': 0,\n",
    "    'LatBin': 34.30,\n",
    "    'LonBin': -118.45}]) \n",
    "\n",
    "# Predict\n",
    "prediction = model.predict(test_input)[0]\n",
    "print(\"Predicted Accident Risk:\", \"High\" if prediction == 1 else \"Low\")\n",
    "print(prediction)"
   ]
  },
  {
   "cell_type": "code",
   "execution_count": 3,
   "id": "e9c81afe-63ba-46c4-bbcf-725a467a2319",
   "metadata": {},
   "outputs": [
    {
     "name": "stdout",
     "output_type": "stream",
     "text": [
      "Predicted Accident Risk: Low\n",
      "0\n"
     ]
    }
   ],
   "source": [
    "# This should match your feature schema: ['Hour', 'Day', 'LatBin', 'LonBin']\n",
    "test_input = pd.DataFrame([{\n",
    "    'Hour': 3,     # Early morning\n",
    "    'Day': 2,      # Monday\n",
    "    'LatBin': round(34.3 * 10),  \n",
    "    'LonBin': round(-118.5 * 10)\n",
    "}])\n",
    "\n",
    "# Run prediction (ensure model is trained and not overwritten)\n",
    "prediction = model.predict(test_input)[0]\n",
    "print(\"Predicted Accident Risk:\", \"High\" if prediction == 1 else \"Low\")\n",
    "print(prediction)"
   ]
  },
  {
   "cell_type": "code",
   "execution_count": null,
   "id": "1e6f5dbc-2581-4c0f-99e0-22b448178465",
   "metadata": {},
   "outputs": [],
   "source": []
  }
 ],
 "metadata": {
  "kernelspec": {
   "display_name": "Python 3 (ipykernel)",
   "language": "python",
   "name": "python3"
  },
  "language_info": {
   "codemirror_mode": {
    "name": "ipython",
    "version": 3
   },
   "file_extension": ".py",
   "mimetype": "text/x-python",
   "name": "python",
   "nbconvert_exporter": "python",
   "pygments_lexer": "ipython3",
   "version": "3.12.2"
  }
 },
 "nbformat": 4,
 "nbformat_minor": 5
}
